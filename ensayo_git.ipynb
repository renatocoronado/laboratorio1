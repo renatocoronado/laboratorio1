{
 "cells": [
  {
   "attachments": {},
   "cell_type": "markdown",
   "metadata": {},
   "source": [
    "# ***Ensayo Git***"
   ]
  },
  {
   "attachments": {},
   "cell_type": "markdown",
   "metadata": {},
   "source": [
    "#### **Què es Git**"
   ]
  },
  {
   "attachments": {},
   "cell_type": "markdown",
   "metadata": {},
   "source": [
    "Git es un sistema de control de versiones utilizado ampliamente en el mundo del desarrollo web para llevar control de los cambios que ocurren dentro del còdigo, carpetas o archivos con que se estè trabajando. Bàsicamente lo que Git hace es tomar una imagen de lo que ha ocurrido en el momento y guardarla para poder posteriormente regresar a ese momento dentro del proyecto si fuera necesario por algùn error futuro o bien comprender el por què se hizo algo en especìfico."
   ]
  },
  {
   "attachments": {},
   "cell_type": "markdown",
   "metadata": {},
   "source": [
    "#### **Modelo de datos de Git**"
   ]
  },
  {
   "attachments": {},
   "cell_type": "markdown",
   "metadata": {},
   "source": [
    "Lo que Git nos ayuda a hacer es recrear el historial de movimientos y cambios ocurridos en archivos y carpetas dentro de un directorio principal por medio de capturar la imagen en esos instantes dados. En terminologìa de Git, los archivos se llaman *blobs* y los directorios son los *trees* o àrboles. La forma en que luego Git relaciona diferentes capturas es por medio de un cojunto de orìgenes que esta pueda tener, dependiendo de todo lo que haya podido ocurrir con anterioridad en el proyecto. Estas capturas son llamadas en Git como *commits*, y gràficamente se puede representar de la siguiente forma:"
   ]
  },
  {
   "attachments": {},
   "cell_type": "markdown",
   "metadata": {},
   "source": [
    "<img src=\"imagen1.png\">\n",
    "\n",
    "*fuente: [version control (Git)](https://missing.csail.mit.edu/2020/version-control/#snapshots)*"
   ]
  },
  {
   "attachments": {},
   "cell_type": "markdown",
   "metadata": {},
   "source": [
    "Otros tèrminos utilizados en la estructura de datos de Git son los objetos, que vienen siendo los archivos (*blobs*), directorios (*trees*) y capturas (*commits*). Estos objetetos pueden hacer referencias entre ellos, pero al suceder esto, un objeto no contiene al otro, si no ùnicamente su referencia. Luego tenemos los repositorios, que es donde almacenamos esto de lo que hemos hablado, los objetos y referencias, que es justamente lo ùnico que Git almacena en nuestro disco al momento de estarlo usando."
   ]
  },
  {
   "attachments": {},
   "cell_type": "markdown",
   "metadata": {},
   "source": [
    "#### **Principales beneficios de Git**"
   ]
  },
  {
   "attachments": {},
   "cell_type": "markdown",
   "metadata": {},
   "source": [
    "* Facilita el desarrollo colaborativo\n",
    "* Nos permite saber cuàndo y quièn hizo un cambio puntual, ayudando esto a comprender la raìz de ciertos errores\n",
    "* Permite trabajar de manera local en los proyectos\n",
    "* No necesita una gran capacidad de procesamiento de la computadora\n"
   ]
  },
  {
   "attachments": {},
   "cell_type": "markdown",
   "metadata": {},
   "source": [
    "#### **Flujo de trabajo en Git**"
   ]
  },
  {
   "attachments": {},
   "cell_type": "markdown",
   "metadata": {},
   "source": [
    "Un flujo de trabajo comùn dentro de Git , cuando se està empezando a aprender y trabajar proyectos personales pequeños serguirà una estructura como la siguiente:"
   ]
  },
  {
   "attachments": {},
   "cell_type": "markdown",
   "metadata": {},
   "source": [
    "1. Trabajo en local\n",
    "2. Pasar cambios y archivos al àrea de *staging*, del cual se pueden quitar algunos si se cree necesario\n",
    "3. Hacer *commit* de lo que tenìamos en el àrea de *staging*\n",
    "4. Pasar lo que se ha hecho *commit* a un servidor, como Github"
   ]
  },
  {
   "attachments": {},
   "cell_type": "markdown",
   "metadata": {},
   "source": [
    "#### **Comandos bàsicos Git**"
   ]
  },
  {
   "attachments": {},
   "cell_type": "markdown",
   "metadata": {},
   "source": [
    "Para todo lo anterior se necesitan ciertos comandos que se ejecutan en la terminal de la computadora, y los cuales nos ayudan en esa comunicaciòn entre lo local y lo que està en la nube. Los comandos màs bàsicos a utilizar son:"
   ]
  },
  {
   "attachments": {},
   "cell_type": "markdown",
   "metadata": {},
   "source": [
    "|Comando |Funciòn|\n",
    "|:-----|:----:|\n",
    "|git help 'command' |Nos da ayuda sobre algùn comando que especifiquemos |\n",
    "|git init |empezar un repositorio de git nuevo |\n",
    "|git status |nos dice que està pasando actualmente con nuestro trabajo |\n",
    "|git add |añade un archivo al àrea de *staging* |\n",
    "|git commit |crea una nueva captura o bien *commit* |\n",
    "|git branch |muestra las ramas de trabajo de trabajo |\n",
    "|git branch 'name' |crea una nueva rama de trabajo |\n",
    "|git checkout 'name' |cambia a dicha rama de trabajo |"
   ]
  },
  {
   "attachments": {},
   "cell_type": "markdown",
   "metadata": {},
   "source": [
    "Hay otro de tipos de comando que tambièn es necesario saber utilizar, que no necesariamente estàn relacionados con el control de versiones pero son una base para cuando se empieza a trabajar en la terminal de la computadora, y un par de estos son para saber donde estamos trabajando en nuestra computadora y què otras cosas contiene esta carpera, como se muestra a continuaciòn."
   ]
  },
  {
   "attachments": {},
   "cell_type": "markdown",
   "metadata": {},
   "source": [
    "Poder ver dònde estamos trabajando (comando pwd en nuestra terminal le añadimos % al inicio):"
   ]
  },
  {
   "cell_type": "code",
   "execution_count": 1,
   "metadata": {},
   "outputs": [
    {
     "data": {
      "text/plain": [
       "'c:\\\\Users\\\\renat\\\\Documents\\\\laboratorio1'"
      ]
     },
     "execution_count": 1,
     "metadata": {},
     "output_type": "execute_result"
    }
   ],
   "source": [
    "%pwd"
   ]
  },
  {
   "attachments": {},
   "cell_type": "markdown",
   "metadata": {},
   "source": [
    "Poder ver que màs contiene la carpeta donde estamos trabajando (comando ls en nuestra terminal le añadimos % al inicio):"
   ]
  },
  {
   "cell_type": "code",
   "execution_count": 3,
   "metadata": {},
   "outputs": [
    {
     "name": "stdout",
     "output_type": "stream",
     "text": [
      " El volumen de la unidad C es Windows\n",
      " El n�mero de serie del volumen es: 2201-7519\n",
      "\n",
      " Directorio de c:\\Users\\renat\\Documents\\laboratorio1\n",
      "\n",
      "2023-02-05  16:19    <DIR>          .\n",
      "2023-02-05  15:25    <DIR>          ..\n",
      "2023-02-05  17:05             5,608 ensayo_git.ipynb\n",
      "2023-02-05  16:18             3,583 imagen1.png\n",
      "               2 archivos          9,191 bytes\n",
      "               2 dirs  107,432,054,784 bytes libres\n"
     ]
    }
   ],
   "source": [
    "%ls"
   ]
  },
  {
   "attachments": {},
   "cell_type": "markdown",
   "metadata": {},
   "source": [
    "#### **Conclusiòn**"
   ]
  },
  {
   "attachments": {},
   "cell_type": "markdown",
   "metadata": {},
   "source": [
    "En conclusiòn podemos ver que la mayorìa, si no es que todos, los lugares de trabajo donde se desarrolle còdigo a gran esacala utilizaràn el control de versiones para un flujo òptimo en las diferentes etapas que este tipo proyectos tiene, por sus mùltiples beneficios para los involucrados y para el producto en sì. Por lo tanto el poder ser capaz de entender y utilizar esta herramienta serà escencial para poder acoplarse a la forma de operar de estos negocios."
   ]
  }
 ],
 "metadata": {
  "kernelspec": {
   "display_name": "Python 3",
   "language": "python",
   "name": "python3"
  },
  "language_info": {
   "codemirror_mode": {
    "name": "ipython",
    "version": 3
   },
   "file_extension": ".py",
   "mimetype": "text/x-python",
   "name": "python",
   "nbconvert_exporter": "python",
   "pygments_lexer": "ipython3",
   "version": "3.10.5"
  },
  "orig_nbformat": 4,
  "vscode": {
   "interpreter": {
    "hash": "8d16696c7c5e1705ba56b1f1c8658fc9a3311c1743452285ed85e35069c857ed"
   }
  }
 },
 "nbformat": 4,
 "nbformat_minor": 2
}
